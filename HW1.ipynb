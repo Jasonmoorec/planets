{
 "cells": [
  {
   "cell_type": "markdown",
   "metadata": {},
   "source": [
    "\tTo discern patterns in the massive number of papers written on hybrid perovskite photovoltaics, researchers from Boğaziçi University attempted to develop heuristics through machine learning and data mining. First 1921 points of experimental data were manually taken from 800 papers published between 2013 and 2018. The output metric that was focused on was PCE of the devices, as this was the primary focus of the papers. A variety of features including chemical composition, transport layer, and antisolvent along with other methodological factors were analyzed. A random forest regression was run with RMSE used as the indicator of prediction capacity, in order to determine the capacity of the model to predict whether the PCE will be low (<9%), medium(9-18S%), or high (>18%). A five-fold cross validation split was used with an 80-20 test split. The decision tree that was then constructed accurately classified 83% of the data. Some of the challenges faced by the researchers, included the lack of a standard methodology even within a given deposition process, and thus some procedural info needed to be omitted. Overall, this paper demonstrates a methodology for analyzing an array of papers and find trends in the field as expansive as perovskites."
   ]
  }
 ],
 "metadata": {
  "kernelspec": {
   "display_name": "Python 3",
   "language": "python",
   "name": "python3"
  },
  "language_info": {
   "codemirror_mode": {
    "name": "ipython",
    "version": 3
   },
   "file_extension": ".py",
   "mimetype": "text/x-python",
   "name": "python",
   "nbconvert_exporter": "python",
   "pygments_lexer": "ipython3",
   "version": "3.8.5"
  }
 },
 "nbformat": 4,
 "nbformat_minor": 4
}
